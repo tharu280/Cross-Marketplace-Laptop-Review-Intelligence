{
 "cells": [
  {
   "cell_type": "code",
   "execution_count": 2,
   "id": "79e90d68",
   "metadata": {},
   "outputs": [],
   "source": [
    "import sqlite3\n",
    "import os\n",
    "from contextlib import contextmanager \n",
    "from datetime import date"
   ]
  },
  {
   "cell_type": "code",
   "execution_count": 3,
   "id": "9b0d044f",
   "metadata": {},
   "outputs": [
    {
     "name": "stdout",
     "output_type": "stream",
     "text": [
      "Configuration loaded.\n",
      "Database path set to: /Users/dilshantharushika/Desktop/laptop agent/backend/laptops_dynamic.db\n"
     ]
    }
   ],
   "source": [
    "BACKEND_DIR = '/Users/dilshantharushika/Desktop/laptop agent/backend' \n",
    "DB_NAME = 'laptops_dynamic.db'\n",
    "DB_PATH = os.path.join(BACKEND_DIR, DB_NAME)\n",
    "\n",
    "print(\"Configuration loaded.\")\n",
    "print(f\"Database path set to: {os.path.abspath(DB_PATH)}\")"
   ]
  },
  {
   "cell_type": "code",
   "execution_count": 4,
   "id": "60eeb94f",
   "metadata": {},
   "outputs": [
    {
     "name": "stdout",
     "output_type": "stream",
     "text": [
      "Database file found.\n"
     ]
    }
   ],
   "source": [
    "if not os.path.exists(DB_PATH):\n",
    "    print(f\"\\n WARNING \")\n",
    "    print(f\"Database file not found at '{DB_PATH}'!\")\n",
    "    print(\"Please run the 'setup_dynamic_db.ipynb' notebook first to create and seed the database.\")\n",
    "    \n",
    "else:\n",
    "    print(\"Database file found.\")"
   ]
  },
  {
   "cell_type": "code",
   "execution_count": 5,
   "id": "3011a7be",
   "metadata": {},
   "outputs": [
    {
     "name": "stdout",
     "output_type": "stream",
     "text": [
      "Database helper function `get_db_connection` defined.\n"
     ]
    }
   ],
   "source": [
    "@contextmanager\n",
    "def get_db_connection():\n",
    "    \"\"\"Provides a managed database connection to the dynamic DB.\"\"\"\n",
    "    conn = None\n",
    "    try:\n",
    "        if not os.path.exists(DB_PATH):\n",
    "             raise FileNotFoundError(f\"Database file not found at {DB_PATH}. Cannot connect.\")\n",
    "        conn = sqlite3.connect(DB_PATH)\n",
    "        conn.row_factory = sqlite3.Row \n",
    "        \n",
    "        yield conn\n",
    "    except Exception as e:\n",
    "        print(f\"Database connection error: {e}\")\n",
    "        yield None \n",
    "    finally:\n",
    "        if conn:\n",
    "            conn.close()\n",
    "           \n",
    "\n",
    "print(\"Database helper function `get_db_connection` defined.\")"
   ]
  },
  {
   "cell_type": "code",
   "execution_count": 6,
   "id": "d95b2f4f",
   "metadata": {},
   "outputs": [
    {
     "name": "stdout",
     "output_type": "stream",
     "text": [
      "`get_all_laptops` function defined.\n"
     ]
    }
   ],
   "source": [
    "def get_all_laptops():\n",
    "    \"\"\"Fetches all laptops from the Laptop table.\"\"\"\n",
    "    laptops = []\n",
    "    try:\n",
    "        with get_db_connection() as conn:\n",
    "            if conn is None: return [] \n",
    "            cursor = conn.cursor()\n",
    "            cursor.execute(\"SELECT sku, brand, model_name, currency, availability, shipping_eta, review_count, average_rating FROM Laptop\")\n",
    "            rows = cursor.fetchall()\n",
    "          \n",
    "            laptops = [dict(row) for row in rows]\n",
    "            print(f\"Successfully fetched {len(laptops)} laptops from the catalog.\")\n",
    "    except Exception as e:\n",
    "        print(f\"Error fetching laptop catalog: {e}\")\n",
    "    return laptops\n",
    "\n",
    "print(\"`get_all_laptops` function defined.\")"
   ]
  },
  {
   "cell_type": "code",
   "execution_count": 7,
   "id": "018c4656",
   "metadata": {},
   "outputs": [
    {
     "name": "stdout",
     "output_type": "stream",
     "text": [
      "Functions `get_price_history_for_sku`, `get_reviews_for_sku`, and `get_qanda_for_sku` defined.\n"
     ]
    }
   ],
   "source": [
    "def get_price_history_for_sku(sku):\n",
    "    \"\"\"Fetches price history for a specific SKU, ordered by date.\"\"\"\n",
    "    prices = []\n",
    "    try:\n",
    "        with get_db_connection() as conn:\n",
    "            if conn is None: return []\n",
    "            cursor = conn.cursor()\n",
    "            cursor.execute(\"\"\"\n",
    "                SELECT id, price, date, vendor_name, promo_badges\n",
    "                FROM PriceHistory\n",
    "                WHERE laptop_sku = ?\n",
    "                ORDER BY date DESC\n",
    "            \"\"\", (sku,))\n",
    "            rows = cursor.fetchall()\n",
    "            prices = [dict(row) for row in rows]\n",
    "            print(f\"Found {len(prices)} price records for SKU '{sku}'.\")\n",
    "    except Exception as e:\n",
    "        print(f\"Error fetching price history for SKU '{sku}': {e}\")\n",
    "    return prices\n",
    "\n",
    "def get_reviews_for_sku(sku):\n",
    "    \"\"\"Fetches reviews for a specific SKU, ordered by date.\"\"\"\n",
    "    reviews = []\n",
    "    try:\n",
    "        with get_db_connection() as conn:\n",
    "            if conn is None: return []\n",
    "            cursor = conn.cursor()\n",
    "            cursor.execute(\"\"\"\n",
    "                SELECT id, rating, review_text, date, source\n",
    "                FROM Review\n",
    "                WHERE laptop_sku = ?\n",
    "                ORDER BY date DESC\n",
    "            \"\"\", (sku,))\n",
    "            rows = cursor.fetchall()\n",
    "            reviews = [dict(row) for row in rows]\n",
    "            print(f\"Found {len(reviews)} reviews for SKU '{sku}'.\")\n",
    "    except Exception as e:\n",
    "        print(f\"Error fetching reviews for SKU '{sku}': {e}\")\n",
    "    return reviews\n",
    "\n",
    "def get_qanda_for_sku(sku):\n",
    "    \"\"\"Fetches Q&A for a specific SKU, ordered by date.\"\"\"\n",
    "    qanda = []\n",
    "    try:\n",
    "        with get_db_connection() as conn:\n",
    "            if conn is None: return []\n",
    "            cursor = conn.cursor()\n",
    "            cursor.execute(\"\"\"\n",
    "                SELECT id, question_text, answer_text, date, source\n",
    "                FROM QuestionAnswer\n",
    "                WHERE laptop_sku = ?\n",
    "                ORDER BY date DESC\n",
    "            \"\"\", (sku,))\n",
    "            rows = cursor.fetchall()\n",
    "            qanda = [dict(row) for row in rows]\n",
    "            print(f\"Found {len(qanda)} Q&A records for SKU '{sku}'.\")\n",
    "    except Exception as e:\n",
    "        print(f\"Error fetching Q&A for SKU '{sku}': {e}\")\n",
    "    return qanda\n",
    "\n",
    "print(\"Functions `get_price_history_for_sku`, `get_reviews_for_sku`, and `get_qanda_for_sku` defined.\")"
   ]
  },
  {
   "cell_type": "code",
   "execution_count": 8,
   "id": "b2cf2da2",
   "metadata": {},
   "outputs": [
    {
     "name": "stdout",
     "output_type": "stream",
     "text": [
      "Testing: Fetch All Laptops \n",
      "Successfully fetched 4 laptops from the catalog.\n",
      "\n",
      "Sample Laptop Data (first entry):\n",
      "  sku: ThinkPad E14 Gen 5 (Intel)\n",
      "  brand: Lenovo\n",
      "  model_name: ThinkPad E14 Gen 5 (Intel)\n",
      "  currency: LKR\n",
      "  availability: In Stock\n",
      "  shipping_eta: Ships in 3-5 days\n",
      "  review_count: 21\n",
      "  average_rating: 3.7\n"
     ]
    }
   ],
   "source": [
    "\n",
    "print(\"Testing: Fetch All Laptops \")\n",
    "all_laptops_data = get_all_laptops()\n",
    "\n",
    "if all_laptops_data:\n",
    "\n",
    "    print(\"\\nSample Laptop Data (first entry):\")\n",
    "    for key, value in all_laptops_data[0].items():\n",
    "        print(f\"  {key}: {value}\")\n",
    "else:\n",
    "    print(\"No laptop data found. Ensure the database was seeded correctly.\")"
   ]
  },
  {
   "cell_type": "code",
   "execution_count": 9,
   "id": "bc017ab6",
   "metadata": {},
   "outputs": [
    {
     "name": "stdout",
     "output_type": "stream",
     "text": [
      "\n",
      "--- Testing: Fetching dynamic data for SKU: 'ThinkPad E14 Gen 5 (Intel)' ---\n",
      "\n",
      "--- Price History ---\n",
      "Found 5 price records for SKU 'ThinkPad E14 Gen 5 (Intel)'.\n",
      "{'id': 4, 'price': 449099.34, 'date': '2025-10-06', 'vendor_name': 'Partner Reseller B', 'promo_badges': 'Free Shipping'}\n",
      "{'id': 1, 'price': 464421.4, 'date': '2025-09-29', 'vendor_name': 'Official Store', 'promo_badges': 'None'}\n",
      "{'id': 3, 'price': 453970.6, 'date': '2025-09-20', 'vendor_name': 'Partner Reseller B', 'promo_badges': 'Sale'}\n",
      "\n",
      "--- Reviews ---\n",
      "Found 3 reviews for SKU 'ThinkPad E14 Gen 5 (Intel)'.\n",
      "{'id': 3, 'rating': 4, 'review_text': 'Display is clear and bright.', 'date': '2025-08-21', 'source': 'Tech Site'}\n",
      "{'id': 2, 'rating': 5, 'review_text': \"Battery doesn't last a full day.\", 'date': '2025-06-05', 'source': 'Customer Review'}\n",
      "{'id': 1, 'rating': 3, 'review_text': 'Decent value for money.', 'date': '2025-05-07', 'source': 'Tech Site'}\n",
      "\n",
      "--- Q&A ---\n",
      "Found 2 Q&A records for SKU 'ThinkPad E14 Gen 5 (Intel)'.\n",
      "{'id': 1, 'question_text': 'Can I upgrade the RAM?', 'answer_text': 'Backlit keyboard is available on select configurations.', 'date': '2025-09-18', 'source': 'Official Q&A / Forum'}\n",
      "{'id': 2, 'question_text': 'Does it have a backlit keyboard?', 'answer_text': 'Yes, RAM is typically upgradeable on this model series, check specific config.', 'date': '2025-09-12', 'source': 'Official Q&A / Forum'}\n",
      "\n",
      "--- Testing complete ---\n"
     ]
    }
   ],
   "source": [
    "\n",
    "test_sku = \"ThinkPad E14 Gen 5 (Intel)\"\n",
    "\n",
    "\n",
    "print(f\"\\n--- Testing: Fetching dynamic data for SKU: '{test_sku}' ---\")\n",
    "\n",
    "\n",
    "print(\"\\n--- Price History ---\")\n",
    "price_data = get_price_history_for_sku(test_sku)\n",
    "if price_data:\n",
    "    for price_record in price_data[:3]: \n",
    "        print(price_record)\n",
    "else:\n",
    "    print(\"No price history found for this SKU.\")\n",
    "\n",
    "\n",
    "print(\"\\n--- Reviews ---\")\n",
    "review_data = get_reviews_for_sku(test_sku)\n",
    "if review_data:\n",
    "    for review_record in review_data[:3]: # Print first 3 reviews\n",
    "        print(review_record)\n",
    "else:\n",
    "    print(\"No reviews found for this SKU.\")\n",
    "\n",
    "\n",
    "print(\"\\n--- Q&A ---\")\n",
    "qanda_data = get_qanda_for_sku(test_sku)\n",
    "if qanda_data:\n",
    "    for qa_record in qanda_data[:3]: \n",
    "        print(qa_record)\n",
    "else:\n",
    "    print(\"No Q&A found for this SKU.\")\n",
    "\n",
    "print(\"\\n--- Testing complete ---\")"
   ]
  },
  {
   "cell_type": "code",
   "execution_count": null,
   "id": "e6ed1982",
   "metadata": {},
   "outputs": [],
   "source": []
  }
 ],
 "metadata": {
  "kernelspec": {
   "display_name": "AgentInbox",
   "language": "python",
   "name": "python3"
  },
  "language_info": {
   "codemirror_mode": {
    "name": "ipython",
    "version": 3
   },
   "file_extension": ".py",
   "mimetype": "text/x-python",
   "name": "python",
   "nbconvert_exporter": "python",
   "pygments_lexer": "ipython3",
   "version": "3.10.16"
  }
 },
 "nbformat": 4,
 "nbformat_minor": 5
}
