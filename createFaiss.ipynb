{
 "cells": [
  {
   "cell_type": "code",
   "execution_count": 2,
   "id": "d795ab3b",
   "metadata": {},
   "outputs": [
    {
     "name": "stderr",
     "output_type": "stream",
     "text": [
      "/opt/anaconda3/envs/AgentInbox/lib/python3.10/site-packages/tqdm/auto.py:21: TqdmWarning: IProgress not found. Please update jupyter and ipywidgets. See https://ipywidgets.readthedocs.io/en/stable/user_install.html\n",
      "  from .autonotebook import tqdm as notebook_tqdm\n"
     ]
    },
    {
     "name": "stdout",
     "output_type": "stream",
     "text": [
      "Libraries imported successfully.\n"
     ]
    }
   ],
   "source": [
    "import json\n",
    "import os\n",
    "import faiss\n",
    "from sentence_transformers import SentenceTransformer\n",
    "import numpy as np\n",
    "import time\n",
    "\n",
    "print(\"Libraries imported successfully.\")"
   ]
  },
  {
   "cell_type": "code",
   "execution_count": 3,
   "id": "0374e516",
   "metadata": {},
   "outputs": [
    {
     "name": "stdout",
     "output_type": "stream",
     "text": [
      "Data will be read from: /Users/dilshantharushika/Desktop/laptop agent/data\n",
      "Artifacts will be saved to: /Users/dilshantharushika/Desktop/laptop agent/backend\n"
     ]
    }
   ],
   "source": [
    "DATA_DIR = '/Users/dilshantharushika/Desktop/laptop agent/data'  \n",
    "BACKEND_DIR = '/Users/dilshantharushika/Desktop/laptop agent/backend' \n",
    "JSON_FILES = [\n",
    "    'ThinkPad_E14_Gen_5_Intel.json',\n",
    "    'ThinkPad_E14_Gen_5_AMD.json',\n",
    "    'HP_ProBook_450_G10.json',\n",
    "    'HP_ProBook_440_G11.json'\n",
    "]\n",
    "MODEL_NAME = 'all-MiniLM-L6-v2' \n",
    "\n",
    "\n",
    "os.makedirs(BACKEND_DIR, exist_ok=True)\n",
    "\n",
    "print(f\"Data will be read from: {os.path.abspath(DATA_DIR)}\")\n",
    "print(f\"Artifacts will be saved to: {os.path.abspath(BACKEND_DIR)}\")"
   ]
  },
  {
   "cell_type": "code",
   "execution_count": 4,
   "id": "faa2bded",
   "metadata": {},
   "outputs": [
    {
     "name": "stdout",
     "output_type": "stream",
     "text": [
      "Loading embedding model: all-MiniLM-L6-v2...\n",
      "Model loaded in 7.12 seconds.\n",
      "SentenceTransformer(\n",
      "  (0): Transformer({'max_seq_length': 256, 'do_lower_case': False}) with Transformer model: BertModel \n",
      "  (1): Pooling({'word_embedding_dimension': 384, 'pooling_mode_cls_token': False, 'pooling_mode_mean_tokens': True, 'pooling_mode_max_tokens': False, 'pooling_mode_mean_sqrt_len_tokens': False, 'pooling_mode_weightedmean_tokens': False, 'pooling_mode_lasttoken': False, 'include_prompt': True})\n",
      "  (2): Normalize()\n",
      ")\n"
     ]
    }
   ],
   "source": [
    "print(f\"Loading embedding model: {MODEL_NAME}...\")\n",
    "start_time = time.time()\n",
    "\n",
    "model = SentenceTransformer(MODEL_NAME)\n",
    "\n",
    "end_time = time.time()\n",
    "print(f\"Model loaded in {end_time - start_time:.2f} seconds.\")\n",
    "print(model)"
   ]
  },
  {
   "cell_type": "code",
   "execution_count": 5,
   "id": "c2ac10bd",
   "metadata": {},
   "outputs": [
    {
     "name": "stdout",
     "output_type": "stream",
     "text": [
      "Reading JSON files from /Users/dilshantharushika/Desktop/laptop agent/data...\n",
      "Processing /Users/dilshantharushika/Desktop/laptop agent/data/ThinkPad_E14_Gen_5_Intel.json...\n",
      "Processing /Users/dilshantharushika/Desktop/laptop agent/data/ThinkPad_E14_Gen_5_AMD.json...\n",
      "Processing /Users/dilshantharushika/Desktop/laptop agent/data/HP_ProBook_450_G10.json...\n",
      "Processing /Users/dilshantharushika/Desktop/laptop agent/data/HP_ProBook_440_G11.json...\n",
      "\n",
      " Processing Complete\n",
      "Total text chunks found: 291\n",
      "Total metadata entries: 291\n",
      "\n",
      " Verification (First 3 Items)\n",
      "\n",
      "Chunk 1: A detailed listing of the ports on the ThinkPad E14 Gen 5 (Intel) chassis and their corresponding nu...\n",
      "Meta 1: {'sku': 'ThinkPad E14 Gen 5 (Intel)', 'text': \"A detailed listing of the ports on the ThinkPad E14 Gen 5 (Intel) chassis and their corresponding numbers in the image:\\n1. USB 2.0 \\n2. Ethernet (RJ-45) \\n3. Kensington Nano Security Slot \\n4. USB-C 3.2 Gen 2 \\n5. Thunderbolt 4 \\n6. USB 3.2 Gen 1 (Always On) \\n7. HDMI \\n8. Headphone / microphone combo jack (3.5mm) \\nStandard Ports (Full List with Specifications):\\n1x USB 2.0 \\n1x USB 3.2 Gen 1 (Always On) \\n1x USB-C 3.2 Gen 2 (support data transfer, Power Delivery 3.0 and DisplayPort™ 1.4) \\n1x Thunderbolt™ 4/USB4 40Gbps (support data transfer, Power Delivery 3.0 and DisplayPort™ 1.4) \\n1x HDMI 2.1, up to 4K/60Hz \\n1x Headphone/microphone combo jack (3.5mm) \\n1x Ethernet (RJ-45) \\nThe transfer speed of these ports will vary depending on factors like the host device's processing speed and file attributes, and may be slower than the theoretical speed. Theoretical maximum speeds are: USB 2.0: 480 Mbit/s; USB 3.2 Gen 1: 5 Gbit/s; USB 3.2 Gen 2: 10 Gbit/s; USB4 40Gbps / Thunderbolt™ 3/4: 40 Gbit/s.\", 'section_title': 'Ports and Slots', 'citations': [8, 9, 10, 11, 12, 13, 14, 15, 223, 224, 225, 226, 227, 228, 229, 231, 232, 233, 234, 236, 237]}\n",
      "\n",
      "Chunk 2: Processor Family: 13th Generation Intel U, P or H Series Core i3/i5/i7 Processor. The table below pr...\n",
      "Meta 2: {'sku': 'ThinkPad E14 Gen 5 (Intel)', 'text': 'Processor Family: 13th Generation Intel U, P or H Series Core i3/i5/i7 Processor. The table below provides the full processor specifications. Note: Intel Iris Xe Graphics capability requires the system to be configured with dual-channel memory; on a system with single-channel memory, it will function as Intel UHD Graphics.', 'section_title': 'Processor', 'citations': [22, 29, 30]}\n",
      "\n",
      "Chunk 3: Core i3-1315U: 6 Cores (2 P-core + 4 E-core), 8 Threads, P-core Base 1.2GHz / E-core Base 0.9GHz, P-...\n",
      "Meta 3: {'sku': 'ThinkPad E14 Gen 5 (Intel)', 'text': 'Core i3-1315U: 6 Cores (2 P-core + 4 E-core), 8 Threads, P-core Base 1.2GHz / E-core Base 0.9GHz, P-core Max 4.5GHz / E-core Max 3.3GHz, 10MB Cache, Intel UHD Graphics', 'section_title': 'Processor', 'citations': [27]}\n"
     ]
    }
   ],
   "source": [
    "all_chunks_text = []\n",
    "metadata_store = []\n",
    "\n",
    "print(f\"Reading JSON files from {DATA_DIR}...\")\n",
    "\n",
    "\n",
    "for file_name in JSON_FILES:\n",
    "    file_path = os.path.join(DATA_DIR, file_name)\n",
    "    print(f\"Processing {file_path}...\")\n",
    "    with open(file_path, 'r', encoding='utf-8') as f:\n",
    "        data = json.load(f)\n",
    "        \n",
    "        for section in data:\n",
    "            sku = section.get('source_model', 'unknown')\n",
    "            \n",
    "            \n",
    "            if section.get('content'):\n",
    "                text = section['content']\n",
    "                all_chunks_text.append(text)\n",
    "                metadata_store.append({\n",
    "                    \"sku\": sku,\n",
    "                    \"text\": text,\n",
    "                    \"section_title\": section.get('section_title', ''),\n",
    "                    \"citations\": section.get('source_citations', [])\n",
    "                })\n",
    "            \n",
    "    \n",
    "            if section.get('subfeatures'):\n",
    "                for subfeature in section['subfeatures']:\n",
    "                    sub_text = subfeature['content']\n",
    "                    all_chunks_text.append(sub_text)\n",
    "                    metadata_store.append({\n",
    "                        \"sku\": sku,\n",
    "                        \"text\": sub_text,\n",
    "                        \"section_title\": section.get('section_title', ''),\n",
    "                        \"citations\": subfeature.get('source_citations', [])\n",
    "                    })\n",
    "\n",
    "print(\"\\n Processing Complete\")\n",
    "print(f\"Total text chunks found: {len(all_chunks_text)}\")\n",
    "print(f\"Total metadata entries: {len(metadata_store)}\")\n",
    "\n",
    "\n",
    "print(\"\\n Verification (First 3 Items)\")\n",
    "for i in range(3):\n",
    "    print(f\"\\nChunk {i+1}: {all_chunks_text[i][:100]}...\")\n",
    "    print(f\"Meta {i+1}: {metadata_store[i]}\")"
   ]
  },
  {
   "cell_type": "code",
   "execution_count": 6,
   "id": "062226d0",
   "metadata": {},
   "outputs": [
    {
     "name": "stdout",
     "output_type": "stream",
     "text": [
      "Creating embeddings for all text chunks\n"
     ]
    },
    {
     "name": "stderr",
     "output_type": "stream",
     "text": [
      "Batches: 100%|██████████| 10/10 [00:01<00:00,  5.09it/s]"
     ]
    },
    {
     "name": "stdout",
     "output_type": "stream",
     "text": [
      "\n",
      "  Embedding Complete\n",
      "Embeddings created in 2.01 seconds.\n",
      "Shape of embeddings array: (291, 384)\n"
     ]
    },
    {
     "name": "stderr",
     "output_type": "stream",
     "text": [
      "\n"
     ]
    }
   ],
   "source": [
    "print(\"Creating embeddings for all text chunks\")\n",
    "start_time = time.time()\n",
    "\n",
    "\n",
    "embeddings = model.encode(all_chunks_text, show_progress_bar=True)\n",
    "\n",
    "\n",
    "embeddings = np.array(embeddings).astype('float32')\n",
    "\n",
    "end_time = time.time()\n",
    "\n",
    "print(f\"\\n  Embedding Complete\")\n",
    "print(f\"Embeddings created in {end_time - start_time:.2f} seconds.\")\n",
    "print(f\"Shape of embeddings array: {embeddings.shape}\")"
   ]
  },
  {
   "cell_type": "code",
   "execution_count": 7,
   "id": "8a279962",
   "metadata": {},
   "outputs": [
    {
     "name": "stdout",
     "output_type": "stream",
     "text": [
      "Building FAISS index...\n",
      "Index type: <class 'faiss.swigfaiss.IndexFlatL2'>\n",
      " FAISS Index Built\n",
      "Total vectors in index: 291\n",
      "Saving FAISS index to /Users/dilshantharushika/Desktop/laptop agent/backend/laptops.index...\n",
      "Index saved.\n"
     ]
    }
   ],
   "source": [
    "print(\"Building FAISS index...\")\n",
    "d = embeddings.shape[1]  \n",
    "\n",
    "index = faiss.IndexFlatL2(d)\n",
    "\n",
    "\n",
    "print(f\"Index type: {type(index)}\")\n",
    "\n",
    "\n",
    "index.add(embeddings)\n",
    "\n",
    "print(f\" FAISS Index Built\")\n",
    "print(f\"Total vectors in index: {index.ntotal}\")\n",
    "\n",
    "\n",
    "index_path = os.path.join(BACKEND_DIR, 'laptops.index')\n",
    "print(f\"Saving FAISS index to {index_path}...\")\n",
    "faiss.write_index(index, index_path)\n",
    "\n",
    "print(\"Index saved.\")"
   ]
  },
  {
   "cell_type": "code",
   "execution_count": 8,
   "id": "42cdc628",
   "metadata": {},
   "outputs": [
    {
     "name": "stdout",
     "output_type": "stream",
     "text": [
      "Saving metadata to /Users/dilshantharushika/Desktop/laptop agent/backend/laptops_metadata.json...\n",
      "Metadata saved.\n",
      "\n",
      " All Artifacts Saved Successfully!\n"
     ]
    }
   ],
   "source": [
    "metadata_path = os.path.join(BACKEND_DIR, 'laptops_metadata.json')\n",
    "print(f\"Saving metadata to {metadata_path}...\")\n",
    "\n",
    "with open(metadata_path, 'w', encoding='utf-8') as f:\n",
    "    json.dump(metadata_store, f, indent=2)\n",
    "\n",
    "print(\"Metadata saved.\")\n",
    "print(\"\\n All Artifacts Saved Successfully!\")"
   ]
  },
  {
   "cell_type": "code",
   "execution_count": 9,
   "id": "0b68224b",
   "metadata": {},
   "outputs": [
    {
     "name": "stdout",
     "output_type": "stream",
     "text": [
      "--- Running a quick test search ---\n",
      "Loading model...\n",
      "Loading FAISS index (IndexFlatL2)...\n",
      "Loading metadata...\n",
      "\n",
      "Searching index with <class 'faiss.swigfaiss.IndexFlatL2'>...\n",
      "\n",
      "Query: 'Does the HP Probook have a 5MP camera?'\n",
      "Top 3 results (Indices): [203 268 270]\n",
      "\n",
      "--- Retrieved Metadata ---\n",
      "Result (Index 203):\n",
      "  SKU: HP ProBook 450 G10 — Datasheet\n",
      "  Section: Camera\n",
      "  Text: Available camera options.\n",
      "  Citations: []\n",
      "\n",
      "Result (Index 268):\n",
      "  SKU: HP ProBook 440 14 inch G11 Notebook PC\n",
      "  Section: Camera\n",
      "  Text: Available camera options are FHD or 5 MP IR cameras (select models).\n",
      "  Citations: [241]\n",
      "\n",
      "Result (Index 270):\n",
      "  SKU: HP ProBook 440 14 inch G11 Notebook PC\n",
      "  Section: Camera\n",
      "  Text: 5 MP IR camera (select models)\n",
      "  Citations: [241, 217]\n",
      "\n"
     ]
    }
   ],
   "source": [
    "\n",
    "print(\"--- Running a quick test search ---\")\n",
    "\n",
    "\n",
    "print(\"Loading model...\")\n",
    "test_model = SentenceTransformer(MODEL_NAME)\n",
    "print(\"Loading FAISS index (IndexFlatL2)...\")\n",
    "test_index = faiss.read_index(os.path.join(BACKEND_DIR, 'laptops.index'))\n",
    "print(\"Loading metadata...\")\n",
    "with open(os.path.join(BACKEND_DIR, 'laptops_metadata.json'), 'r') as f:\n",
    "    test_metadata = json.load(f)\n",
    "\n",
    "\n",
    "query_text = \"Does the HP Probook have a 5MP camera?\"\n",
    "k = 3 \n",
    "\n",
    "\n",
    "query_vector = test_model.encode([query_text]).astype('float32')\n",
    "\n",
    "\n",
    "print(f\"\\nSearching index with {type(test_index)}...\")\n",
    "D, I = test_index.search(query_vector, k) \n",
    "\n",
    "\n",
    "print(f\"\\nQuery: '{query_text}'\")\n",
    "print(f\"Top {k} results (Indices): {I[0]}\")\n",
    "\n",
    "print(\"\\n--- Retrieved Metadata ---\")\n",
    "for i in I[0]:\n",
    "    meta = test_metadata[i]\n",
    "    print(f\"Result (Index {i}):\")\n",
    "    print(f\"  SKU: {meta['sku']}\")\n",
    "    print(f\"  Section: {meta['section_title']}\")\n",
    "    print(f\"  Text: {meta['text']}\")\n",
    "    print(f\"  Citations: {meta['citations']}\\n\")"
   ]
  },
  {
   "cell_type": "code",
   "execution_count": null,
   "id": "0357028f",
   "metadata": {},
   "outputs": [],
   "source": []
  }
 ],
 "metadata": {
  "kernelspec": {
   "display_name": "AgentInbox",
   "language": "python",
   "name": "python3"
  },
  "language_info": {
   "codemirror_mode": {
    "name": "ipython",
    "version": 3
   },
   "file_extension": ".py",
   "mimetype": "text/x-python",
   "name": "python",
   "nbconvert_exporter": "python",
   "pygments_lexer": "ipython3",
   "version": "3.10.16"
  }
 },
 "nbformat": 4,
 "nbformat_minor": 5
}
